{
 "cells": [
  {
   "cell_type": "code",
   "execution_count": 32,
   "id": "ca4e7f86-abeb-43ad-8d5f-b49126e29b92",
   "metadata": {},
   "outputs": [],
   "source": [
    "from dolfin import *"
   ]
  },
  {
   "cell_type": "markdown",
   "id": "e073ae66-1547-438c-a5e6-d031bb51f01f",
   "metadata": {},
   "source": [
    "# Define mesh"
   ]
  },
  {
   "cell_type": "code",
   "execution_count": 111,
   "id": "ab0ab8cf-93e8-4ff2-a949-13a93ae2bf3c",
   "metadata": {},
   "outputs": [],
   "source": [
    "N = 10\n",
    "#mesh = UnitIntervalMesh(N)\n",
    "mesh = UnitSquareMesh(N,N)"
   ]
  },
  {
   "cell_type": "code",
   "execution_count": 112,
   "id": "a0a0c1bf-d979-4fbd-8a84-12c7c05c8b9d",
   "metadata": {},
   "outputs": [
    {
     "data": {
      "text/plain": [
       "[<matplotlib.lines.Line2D at 0x7f6969d2b8e0>,\n",
       " <matplotlib.lines.Line2D at 0x7f6969d2bbe0>]"
      ]
     },
     "execution_count": 112,
     "metadata": {},
     "output_type": "execute_result"
    },
    {
     "data": {
      "image/png": "[encoded data removed]",
      "text/plain": [
       "<Figure size 640x480 with 1 Axes>"
      ]
     },
     "metadata": {},
     "output_type": "display_data"
    }
   ],
   "source": [
    "plot(mesh)"
   ]
  },
  {
   "cell_type": "markdown",
   "id": "dade8284-3a6e-4e19-9360-b609b48045d1",
   "metadata": {},
   "source": [
    "# Label subdomains and Interface"
   ]
  },
  {
   "cell_type": "code",
   "execution_count": 113,
   "id": "b112dac6-1fe9-4b3a-b192-ec50045c3e82",
   "metadata": {},
   "outputs": [],
   "source": [
    "class Fluid(SubDomain):\n",
    "    def inside(self, x, on_boundary):\n",
    "        return x[0] <= 0.5\n",
    "\n",
    "class Solid(SubDomain):\n",
    "    def inside(self, x, on_boundary):\n",
    "        return x[0] >= 0.5\n",
    "\n",
    "class Interface(SubDomain):\n",
    "    def inside(self, x, on_boundary):\n",
    "        return x[0] == 0.5\n",
    "\n",
    "fluid = Fluid()\n",
    "solid = Solid()\n",
    "interface = Interface()\n",
    "\n",
    "sub_domains = MeshFunction(\"size_t\", mesh, mesh.topology().dim())\n",
    "sub_domains.set_all(0)\n",
    "fluid.mark(sub_domains, 1)\n",
    "solid.mark(sub_domains, 2)\n",
    "\n",
    "boundaries = MeshFunction(\"size_t\", mesh, mesh.topology().dim() - 1)\n",
    "boundaries.set_all(0)\n",
    "interface.mark(boundaries, 1)"
   ]
  },
  {
   "cell_type": "code",
   "execution_count": 114,
   "id": "0a4a436a-841e-4375-8042-756dd3d2ba58",
   "metadata": {},
   "outputs": [
    {
     "data": {
      "text/plain": [
       "array([0, 0, 0, 0, 0, 0, 0, 0, 0, 0, 0, 0, 0, 0, 0, 0, 1, 0, 0, 0, 0, 0,\n",
       "       0, 0, 0, 0, 0, 0, 0, 0, 0, 0, 0, 0, 0, 0, 0, 0, 0, 0, 0, 0, 0, 0,\n",
       "       0, 0, 0, 1, 0, 0, 0, 0, 0, 0, 0, 0, 0, 0, 0, 0, 0, 0, 0, 0, 0, 0,\n",
       "       0, 0, 0, 0, 0, 0, 0, 0, 0, 0, 0, 0, 1, 0, 0, 0, 0, 0, 0, 0, 0, 0,\n",
       "       0, 0, 0, 0, 0, 0, 0, 0, 0, 0, 0, 0, 0, 0, 0, 0, 0, 0, 0, 0, 0, 1,\n",
       "       0, 0, 0, 0, 0, 0, 0, 0, 0, 0, 0, 0, 0, 0, 0, 0, 0, 0, 0, 0, 0, 0,\n",
       "       0, 0, 0, 0, 0, 0, 0, 0, 1, 0, 0, 0, 0, 0, 0, 0, 0, 0, 0, 0, 0, 0,\n",
       "       0, 0, 0, 0, 0, 0, 0, 0, 0, 0, 0, 0, 0, 0, 0, 0, 0, 1, 0, 0, 0, 0,\n",
       "       0, 0, 0, 0, 0, 0, 0, 0, 0, 0, 0, 0, 0, 0, 0, 0, 0, 0, 0, 0, 0, 0,\n",
       "       0, 0, 0, 0, 1, 0, 0, 0, 0, 0, 0, 0, 0, 0, 0, 0, 0, 0, 0, 0, 0, 0,\n",
       "       0, 0, 0, 0, 0, 0, 0, 0, 0, 0, 0, 0, 0, 1, 0, 0, 0, 0, 0, 0, 0, 0,\n",
       "       0, 0, 0, 0, 0, 0, 0, 0, 0, 0, 0, 0, 0, 0, 0, 0, 0, 0, 0, 0, 0, 0,\n",
       "       1, 0, 0, 0, 0, 0, 0, 0, 0, 0, 0, 0, 0, 0, 0, 0, 0, 0, 0, 0, 0, 0,\n",
       "       0, 0, 0, 0, 0, 0, 0, 0, 0, 1, 0, 0, 0, 0, 0, 0, 0, 0, 0, 0, 0, 0,\n",
       "       0, 0, 0, 0, 0, 0, 0, 0, 0, 0, 0, 0], dtype=uint64)"
      ]
     },
     "execution_count": 114,
     "metadata": {},
     "output_type": "execute_result"
    }
   ],
   "source": [
    "sub_domains.array()\n",
    "boundaries.array()"
   ]
  },
  {
   "cell_type": "markdown",
   "id": "7a9b19d7-b125-44c9-8be8-3710c3c3d377",
   "metadata": {},
   "source": [
    "# Define Function Spaces and Weak Variational Form"
   ]
  },
  {
   "cell_type": "code",
   "execution_count": 181,
   "id": "552eea27-bf79-427b-a909-10cc83131e09",
   "metadata": {},
   "outputs": [
    {
     "name": "stdout",
     "output_type": "stream",
     "text": [
      "Calling FFC just-in-time (JIT) compiler, this may take some time.\n"
     ]
    }
   ],
   "source": [
    "VE = FiniteElement(\"CG\", mesh.ufl_cell(), 1)\n",
    "V = FunctionSpace(mesh, MixedElement(VE, VE))\n",
    "F = FunctionSpace(mesh, VE)"
   ]
  },
  {
   "cell_type": "code",
   "execution_count": 182,
   "id": "01af2cea-3df3-4fa2-8f79-ac22e161c815",
   "metadata": {},
   "outputs": [],
   "source": [
    "v = TrialFunction(V)\n",
    "psi = TestFunction(V)\n",
    "(w, z) = split(v)\n",
    "(psiw, psiz) = split(psi)"
   ]
  },
  {
   "cell_type": "markdown",
   "id": "ab697760-3c44-4cfb-b2f5-5700d7ab95bd",
   "metadata": {},
   "source": [
    "Define a function $f$ that we want to approximate"
   ]
  },
  {
   "cell_type": "code",
   "execution_count": 207,
   "id": "33e52eed-461e-4d10-8bbe-16ae4cd449ba",
   "metadata": {},
   "outputs": [],
   "source": [
    "fe = Expression(\"x[0]*x[1]\", degree = 1)\n",
    "f = project(fe, F)"
   ]
  },
  {
   "cell_type": "code",
   "execution_count": 208,
   "id": "2f77bf8c-9d98-405e-961d-ed294fb58860",
   "metadata": {},
   "outputs": [],
   "source": [
    "dx = Measure('dx', domain=mesh, subdomain_data=sub_domains)\n",
    "dS = Measure('dS', domain=mesh, subdomain_data=boundaries)\n",
    "n = FacetNormal(mesh)"
   ]
  },
  {
   "cell_type": "code",
   "execution_count": 209,
   "id": "965044ac-5191-46f2-811f-e25232bb5555",
   "metadata": {},
   "outputs": [
    {
     "data": {
      "text/plain": [
       "-1.0"
      ]
     },
     "execution_count": 209,
     "metadata": {},
     "output_type": "execute_result"
    }
   ],
   "source": [
    "assemble( inner(n(\"-\"), n(\"+\"))*dS(1))"
   ]
  },
  {
   "cell_type": "code",
   "execution_count": 244,
   "id": "c13684a1-899c-411d-b27e-69158ebfedd2",
   "metadata": {},
   "outputs": [],
   "source": [
    "alpha = 1e-9"
   ]
  },
  {
   "cell_type": "code",
   "execution_count": 245,
   "id": "cd0380cf-77da-4cb4-88ca-e04f81630202",
   "metadata": {},
   "outputs": [],
   "source": [
    "a = inner(grad(w), grad(psiz))*dx(1) - inner(z, psiz)*dx(1) \\\n",
    "+ alpha * inner(grad(z), grad(psiw))*dx(1) + inner(w, psiw)*dx(2) + alpha * inner(grad(z), grad(psiz))*dx(2) \\\n",
    "+ alpha * (- inner(grad(z)(\"-\"), psiw(\"-\")* n(\"-\"))*dS(1) - inner(grad(z)(\"+\"), psiz(\"+\")* n(\"+\"))*dS(1))"
   ]
  },
  {
   "cell_type": "code",
   "execution_count": 246,
   "id": "1aa02e85-944b-476e-a98b-bb0490990ce0",
   "metadata": {},
   "outputs": [],
   "source": [
    "L = inner(f, psiw)*dx(2)"
   ]
  },
  {
   "cell_type": "code",
   "execution_count": 247,
   "id": "046b29c8-ec4b-45b9-b626-90604fdadcc5",
   "metadata": {},
   "outputs": [],
   "source": [
    "v2 = Function(V)"
   ]
  },
  {
   "cell_type": "code",
   "execution_count": 248,
   "id": "c9f706a4-6c1d-4f61-a245-ba7522aab7a5",
   "metadata": {},
   "outputs": [
    {
     "name": "stdout",
     "output_type": "stream",
     "text": [
      "Solving linear variational problem.\n"
     ]
    }
   ],
   "source": [
    "solve(a == L, v2, [])"
   ]
  },
  {
   "cell_type": "code",
   "execution_count": 249,
   "id": "388d1785-6ab5-459f-b4db-c47fb17d59d1",
   "metadata": {},
   "outputs": [],
   "source": [
    "(w2, z2) = split(v2)"
   ]
  },
  {
   "cell_type": "code",
   "execution_count": 250,
   "id": "5f754ae8-76ca-41ed-953d-5b08917a49b1",
   "metadata": {},
   "outputs": [
    {
     "name": "stdout",
     "output_type": "stream",
     "text": [
      "Object cannot be plotted directly, projecting to piecewise linears.\n"
     ]
    },
    {
     "data": {
      "text/plain": [
       "<matplotlib.tri.tricontour.TriContourSet at 0x7f6967716e00>"
      ]
     },
     "execution_count": 250,
     "metadata": {},
     "output_type": "execute_result"
    },
    {
     "data": {
      "image/png": "[encoded data removed]",
      "text/plain": [
       "<Figure size 640x480 with 1 Axes>"
      ]
     },
     "metadata": {},
     "output_type": "display_data"
    }
   ],
   "source": [
    "plot(w2)"
   ]
  },
  {
   "cell_type": "code",
   "execution_count": 251,
   "id": "0ab73f10-02da-4fe1-abbd-e69a154cc3b2",
   "metadata": {},
   "outputs": [],
   "source": [
    "w3, z3 = v2.split(deepcopy=True)"
   ]
  },
  {
   "cell_type": "code",
   "execution_count": 252,
   "id": "8b5a18c6-fa5c-4747-a4c7-13ff169e2415",
   "metadata": {},
   "outputs": [
    {
     "data": {
      "text/plain": [
       "<matplotlib.tri.tricontour.TriContourSet at 0x7f6967496e30>"
      ]
     },
     "execution_count": 252,
     "metadata": {},
     "output_type": "execute_result"
    },
    {
     "data": {
      "image/png": "[encoded data removed]",
      "text/plain": [
       "<Figure size 640x480 with 1 Axes>"
      ]
     },
     "metadata": {},
     "output_type": "display_data"
    }
   ],
   "source": [
    "plot(w3)"
   ]
  },
  {
   "cell_type": "code",
   "execution_count": 253,
   "id": "39aed129-3f97-4c4d-a9b8-bbb6fd60a88f",
   "metadata": {},
   "outputs": [
    {
     "data": {
      "text/plain": [
       "array([ 4.19115370e-01,  4.10559678e-01,  4.23415300e-01,  3.84039419e-01,\n",
       "        4.13530832e-01,  4.33971865e-01,  3.44526664e-01,  3.85694943e-01,\n",
       "        4.21899214e-01,  4.51542078e-01,  2.96847387e-01,  3.45278445e-01,\n",
       "        3.90372278e-01,  4.34456416e-01,  4.76172551e-01,  2.45014479e-01,\n",
       "        2.97173237e-01,  3.47499708e-01,  3.96100191e-01,  4.47607943e-01,\n",
       "        4.99967341e-01,  1.92465531e-01,  2.45216758e-01,  2.98361826e-01,\n",
       "        3.49784452e-01,  3.99633494e-01,  4.50012303e-01,  6.00002007e-01,\n",
       "        1.42718792e-01,  1.92582096e-01,  2.46256429e-01,  2.99601474e-01,\n",
       "        3.50559847e-01,  3.99997373e-01,  5.39997839e-01,  7.00000332e-01,\n",
       "        1.00058153e-01,  1.42523970e-01,  1.93593707e-01,  2.47781696e-01,\n",
       "        3.00074192e-01,  3.50000593e-01,  4.80000718e-01,  6.30000230e-01,\n",
       "        7.99999864e-01,  6.98087450e-02,  9.91658697e-02,  1.42831771e-01,\n",
       "        1.95601676e-01,  2.49240389e-01,  2.99999987e-01,  4.19999791e-01,\n",
       "        5.59999866e-01,  7.20000001e-01,  9.00000026e-01,  5.73440901e-02,\n",
       "        6.80556925e-02,  9.74150675e-02,  1.44374530e-01,  1.98265309e-01,\n",
       "        2.50000022e-01,  3.60000046e-01,  4.90000045e-01,  6.40000019e-01,\n",
       "        8.09999992e-01,  9.99999997e-01,  5.57690662e-02,  6.29583656e-02,\n",
       "        9.62441849e-02,  1.47501538e-01,  2.00000405e-01,  2.99999851e-01,\n",
       "        4.20000027e-01,  5.59999981e-01,  7.20000001e-01,  9.00000003e-01,\n",
       "        4.78789323e-02,  5.62104765e-02,  9.74400479e-02,  1.49998358e-01,\n",
       "        2.40000499e-01,  3.49999893e-01,  4.80000021e-01,  6.30000000e-01,\n",
       "        7.99999999e-01,  3.41039128e-02,  5.15869891e-02,  1.00008488e-01,\n",
       "        1.79998233e-01,  2.80000268e-01,  3.99999974e-01,  5.39999999e-01,\n",
       "        7.00000001e-01,  1.50824065e-02,  4.99744130e-02,  1.20003154e-01,\n",
       "        2.09999833e-01,  3.19999960e-01,  4.50000016e-01,  5.99999995e-01,\n",
       "        2.14459330e-05,  6.00008876e-02,  1.39999218e-01,  2.40000169e-01,\n",
       "        3.59999979e-01,  4.99999999e-01, -4.16842710e-06,  7.00006113e-02,\n",
       "        1.60000036e-01,  2.69999960e-01,  4.00000020e-01,  5.66780677e-07,\n",
       "        7.99997916e-02,  1.80000032e-01,  3.00000003e-01, -3.81273236e-08,\n",
       "        9.00000423e-02,  1.99999976e-01, -5.86590238e-09,  9.99999905e-02,\n",
       "        7.67755406e-09])"
      ]
     },
     "execution_count": 253,
     "metadata": {},
     "output_type": "execute_result"
    }
   ],
   "source": [
    "w3.vector()[:]"
   ]
  },
  {
   "cell_type": "code",
   "execution_count": null,
   "id": "aa0b4a77-386d-43a8-87aa-13c054e175ba",
   "metadata": {},
   "outputs": [],
   "source": []
  }
 ],
 "metadata": {
  "kernelspec": {
   "display_name": "Python 3 (ipykernel)",
   "language": "python",
   "name": "python3"
  },
  "language_info": {
   "codemirror_mode": {
    "name": "ipython",
    "version": 3
   },
   "file_extension": ".py",
   "mimetype": "text/x-python",
   "name": "python",
   "nbconvert_exporter": "python",
   "pygments_lexer": "ipython3",
   "version": "3.10.12"
  }
 },
 "nbformat": 4,
 "nbformat_minor": 5
}
