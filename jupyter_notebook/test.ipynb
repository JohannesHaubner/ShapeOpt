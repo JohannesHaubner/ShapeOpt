{
 "cells": [
  {
   "cell_type": "code",
   "execution_count": 136,
   "id": "ca4e7f86-abeb-43ad-8d5f-b49126e29b92",
   "metadata": {},
   "outputs": [],
   "source": [
    "from dolfin import *"
   ]
  },
  {
   "cell_type": "markdown",
   "id": "e073ae66-1547-438c-a5e6-d031bb51f01f",
   "metadata": {},
   "source": [
    "# Define mesh"
   ]
  },
  {
   "cell_type": "code",
   "execution_count": 137,
   "id": "ab0ab8cf-93e8-4ff2-a949-13a93ae2bf3c",
   "metadata": {},
   "outputs": [],
   "source": [
    "N = 30\n",
    "#mesh = UnitIntervalMesh(N)\n",
    "mesh = UnitSquareMesh(N,N)"
   ]
  },
  {
   "cell_type": "code",
   "execution_count": 138,
   "id": "a0a0c1bf-d979-4fbd-8a84-12c7c05c8b9d",
   "metadata": {},
   "outputs": [
    {
     "data": {
      "text/plain": [
       "[<matplotlib.lines.Line2D at 0x7f876d362410>,\n",
       " <matplotlib.lines.Line2D at 0x7f876d3625c0>]"
      ]
     },
     "execution_count": 138,
     "metadata": {},
     "output_type": "execute_result"
    },
    {
     "data": {
      "image/png": "[encoded data removed]",
      "text/plain": [
       "<Figure size 640x480 with 1 Axes>"
      ]
     },
     "metadata": {},
     "output_type": "display_data"
    }
   ],
   "source": [
    "plot(mesh)"
   ]
  },
  {
   "cell_type": "markdown",
   "id": "dade8284-3a6e-4e19-9360-b609b48045d1",
   "metadata": {},
   "source": [
    "# Label subdomains and Interface"
   ]
  },
  {
   "cell_type": "code",
   "execution_count": 139,
   "id": "b112dac6-1fe9-4b3a-b192-ec50045c3e82",
   "metadata": {},
   "outputs": [],
   "source": [
    "class Fluid(SubDomain):\n",
    "    def inside(self, x, on_boundary):\n",
    "        return x[0] <= 0.5\n",
    "\n",
    "class Solid(SubDomain):\n",
    "    def inside(self, x, on_boundary):\n",
    "        return x[0] >= 0.5\n",
    "\n",
    "class Interface(SubDomain):\n",
    "    def inside(self, x, on_boundary):\n",
    "        return x[0] == 0.5\n",
    "\n",
    "fluid = Fluid()\n",
    "solid = Solid()\n",
    "interface = Interface()\n",
    "\n",
    "sub_domains = MeshFunction(\"size_t\", mesh, mesh.topology().dim())\n",
    "sub_domains.set_all(0)\n",
    "fluid.mark(sub_domains, 1)\n",
    "solid.mark(sub_domains, 2)\n",
    "\n",
    "boundaries = MeshFunction(\"size_t\", mesh, mesh.topology().dim() - 1)\n",
    "boundaries.set_all(0)\n",
    "interface.mark(boundaries, 1)"
   ]
  },
  {
   "cell_type": "code",
   "execution_count": 140,
   "id": "0a4a436a-841e-4375-8042-756dd3d2ba58",
   "metadata": {},
   "outputs": [
    {
     "data": {
      "text/plain": [
       "array([0, 0, 0, ..., 0, 0, 0], dtype=uint64)"
      ]
     },
     "execution_count": 140,
     "metadata": {},
     "output_type": "execute_result"
    }
   ],
   "source": [
    "sub_domains.array()\n",
    "boundaries.array()"
   ]
  },
  {
   "cell_type": "markdown",
   "id": "7a9b19d7-b125-44c9-8be8-3710c3c3d377",
   "metadata": {},
   "source": [
    "# Define Function Spaces and Weak Variational Form"
   ]
  },
  {
   "cell_type": "code",
   "execution_count": 141,
   "id": "552eea27-bf79-427b-a909-10cc83131e09",
   "metadata": {},
   "outputs": [],
   "source": [
    "VE = FiniteElement(\"CG\", mesh.ufl_cell(), 1)\n",
    "V = FunctionSpace(mesh, MixedElement(VE, VE))\n",
    "F = FunctionSpace(mesh, VE)\n",
    "P = FunctionSpace(mesh, \"CG\", 1)"
   ]
  },
  {
   "cell_type": "code",
   "execution_count": 142,
   "id": "01af2cea-3df3-4fa2-8f79-ac22e161c815",
   "metadata": {},
   "outputs": [],
   "source": [
    "v = TrialFunction(V)\n",
    "psi = TestFunction(V)\n",
    "(w, z) = split(v)\n",
    "(psiw, psiz) = split(psi)"
   ]
  },
  {
   "cell_type": "markdown",
   "id": "ab697760-3c44-4cfb-b2f5-5700d7ab95bd",
   "metadata": {},
   "source": [
    "Define a function $f$ that we want to approximate"
   ]
  },
  {
   "cell_type": "code",
   "execution_count": 143,
   "id": "33e52eed-461e-4d10-8bbe-16ae4cd449ba",
   "metadata": {},
   "outputs": [],
   "source": [
    "fe = Expression(\"x[0]*x[1]\", degree = 1)\n",
    "f = project(fe, F)"
   ]
  },
  {
   "cell_type": "code",
   "execution_count": 144,
   "id": "2f77bf8c-9d98-405e-961d-ed294fb58860",
   "metadata": {},
   "outputs": [],
   "source": [
    "dx = Measure('dx', domain=mesh, subdomain_data=sub_domains)\n",
    "dS = Measure('dS', domain=mesh, subdomain_data=boundaries)\n",
    "n = FacetNormal(mesh)"
   ]
  },
  {
   "cell_type": "code",
   "execution_count": 145,
   "id": "965044ac-5191-46f2-811f-e25232bb5555",
   "metadata": {},
   "outputs": [
    {
     "data": {
      "text/plain": [
       "-1.0"
      ]
     },
     "execution_count": 145,
     "metadata": {},
     "output_type": "execute_result"
    }
   ],
   "source": [
    "assemble( inner(n(\"-\"), n(\"+\"))*dS(1))"
   ]
  },
  {
   "cell_type": "code",
   "execution_count": 146,
   "id": "0c949fca-5819-4155-9cea-e50c43a79f65",
   "metadata": {},
   "outputs": [],
   "source": [
    "with_iota = False #False/True\n",
    "alpha = 1e-2"
   ]
  },
  {
   "cell_type": "code",
   "execution_count": 147,
   "id": "c13684a1-899c-411d-b27e-69158ebfedd2",
   "metadata": {},
   "outputs": [],
   "source": [
    "iota = interpolate(Constant(1.0), P)\n",
    "if with_iota: # in this case iota is chosen as constantly one (= no iota)\n",
    "    bc = DirichletBC(P, Constant(0.0), boundaries, 1)\n",
    "    bc.apply(iota.vector())"
   ]
  },
  {
   "cell_type": "code",
   "execution_count": 148,
   "id": "cd0380cf-77da-4cb4-88ca-e04f81630202",
   "metadata": {},
   "outputs": [],
   "source": [
    "a = inner(grad(w), grad(psiz))*dx(1) - inner(z, psiz)*dx(1) \\\n",
    "+ alpha * inner(grad(z), grad(psiw*iota))*dx(1) + inner(w, psiw)*dx(2) + alpha * inner(grad(z), grad(psiz *iota))*dx(2) \\\n",
    "+ alpha * (- inner(grad(z)(\"-\"), iota(\"-\") * psiw(\"-\")* n(\"-\"))*dS(1) - inner(grad(z)(\"+\"), iota(\"+\")*psiz(\"+\")* n(\"+\"))*dS(1))"
   ]
  },
  {
   "cell_type": "code",
   "execution_count": 149,
   "id": "1aa02e85-944b-476e-a98b-bb0490990ce0",
   "metadata": {},
   "outputs": [],
   "source": [
    "L = inner(f, psiw)*dx(2)"
   ]
  },
  {
   "cell_type": "code",
   "execution_count": 150,
   "id": "046b29c8-ec4b-45b9-b626-90604fdadcc5",
   "metadata": {},
   "outputs": [],
   "source": [
    "v2 = Function(V)"
   ]
  },
  {
   "cell_type": "code",
   "execution_count": 151,
   "id": "c9f706a4-6c1d-4f61-a245-ba7522aab7a5",
   "metadata": {},
   "outputs": [
    {
     "name": "stdout",
     "output_type": "stream",
     "text": [
      "Solving linear variational problem.\n"
     ]
    }
   ],
   "source": [
    "solve(a == L, v2, [])"
   ]
  },
  {
   "cell_type": "code",
   "execution_count": 152,
   "id": "388d1785-6ab5-459f-b4db-c47fb17d59d1",
   "metadata": {},
   "outputs": [],
   "source": [
    "(w2, z2) = split(v2)"
   ]
  },
  {
   "cell_type": "code",
   "execution_count": 153,
   "id": "5f754ae8-76ca-41ed-953d-5b08917a49b1",
   "metadata": {},
   "outputs": [
    {
     "name": "stdout",
     "output_type": "stream",
     "text": [
      "Object cannot be plotted directly, projecting to piecewise linears.\n"
     ]
    },
    {
     "data": {
      "text/plain": [
       "<matplotlib.tri.tricontour.TriContourSet at 0x7f876d3ba620>"
      ]
     },
     "execution_count": 153,
     "metadata": {},
     "output_type": "execute_result"
    },
    {
     "data": {
      "image/png": "[encoded data removed]",
      "text/plain": [
       "<Figure size 640x480 with 1 Axes>"
      ]
     },
     "metadata": {},
     "output_type": "display_data"
    }
   ],
   "source": [
    "plot(w2)"
   ]
  },
  {
   "cell_type": "code",
   "execution_count": 154,
   "id": "0ab73f10-02da-4fe1-abbd-e69a154cc3b2",
   "metadata": {},
   "outputs": [],
   "source": [
    "w3, z3 = v2.split(deepcopy=True)"
   ]
  },
  {
   "cell_type": "code",
   "execution_count": 155,
   "id": "8b5a18c6-fa5c-4747-a4c7-13ff169e2415",
   "metadata": {},
   "outputs": [
    {
     "data": {
      "text/plain": [
       "<matplotlib.tri.tricontour.TriContourSet at 0x7f876d29dfc0>"
      ]
     },
     "execution_count": 155,
     "metadata": {},
     "output_type": "execute_result"
    },
    {
     "data": {
      "image/png": "[encoded data removed]",
      "text/plain": [
       "<Figure size 640x480 with 1 Axes>"
      ]
     },
     "metadata": {},
     "output_type": "display_data"
    }
   ],
   "source": [
    "plot(w3)"
   ]
  },
  {
   "cell_type": "code",
   "execution_count": 156,
   "id": "39aed129-3f97-4c4d-a9b8-bbb6fd60a88f",
   "metadata": {},
   "outputs": [
    {
     "data": {
      "text/plain": [
       "array([ 2.12738129e-01,  2.12539066e-01,  2.12826015e-01,  2.11873091e-01,\n",
       "        2.12606393e-01,  2.13018350e-01,  2.10757787e-01,  2.11934155e-01,\n",
       "        2.12792811e-01,  2.13321869e-01,  2.09208875e-01,  2.10815381e-01,\n",
       "        2.12113948e-01,  2.13093322e-01,  2.13733606e-01,  2.07245192e-01,\n",
       "        2.09263249e-01,  2.10987973e-01,  2.12407444e-01,  2.13502348e-01,\n",
       "        2.14245989e-01,  2.04889706e-01,  2.07296006e-01,  2.09427434e-01,\n",
       "        2.11271338e-01,  2.12808347e-01,  2.14011705e-01,  2.14847899e-01,\n",
       "        2.02169573e-01,  2.04936496e-01,  2.07450288e-01,  2.09697740e-01,\n",
       "        2.11659297e-01,  2.13308146e-01,  2.14610147e-01,  2.15524687e-01,\n",
       "        1.99115885e-01,  2.02211874e-01,  2.05079335e-01,  2.07704696e-01,\n",
       "        2.10068310e-01,  2.12143396e-01,  2.13895550e-01,  2.15283044e-01,\n",
       "        2.16257856e-01,  1.95763320e-01,  1.99153280e-01,  2.02341817e-01,\n",
       "        2.05315161e-01,  2.08053741e-01,  2.10530976e-01,  2.12712508e-01,\n",
       "        2.14556054e-01,  2.16011970e-01,  2.17024536e-01,  1.92149720e-01,\n",
       "        1.95795449e-01,  1.99269019e-01,  2.02556601e-01,  2.05638875e-01,\n",
       "        2.08489671e-01,  2.11074975e-01,  2.13352431e-01,  2.15271473e-01,\n",
       "        2.16774165e-01,  2.17796825e-01,  1.88315637e-01,  1.92176288e-01,\n",
       "        1.95895856e-01,  1.99460576e-01,  2.02851547e-01,  2.06043229e-01,\n",
       "        2.09002243e-01,  2.11686594e-01,  2.14045418e-01,  2.16019380e-01,\n",
       "        2.17541855e-01,  2.18540979e-01,  1.84303853e-01,  1.88336417e-01,\n",
       "        1.92260430e-01,  1.96062311e-01,  1.99723734e-01,  2.03219994e-01,\n",
       "        2.06518634e-01,  2.09578418e-01,  2.12348746e-01,  2.14769636e-01,\n",
       "        2.16772421e-01,  2.18281394e-01,  2.19216551e-01,  1.80158887e-01,\n",
       "        1.84318688e-01,  1.88403564e-01,  1.92400236e-01,  1.96291100e-01,\n",
       "        2.00052484e-01,  2.03653119e-01,  2.07052893e-01,  2.10201983e-01,\n",
       "        2.13040456e-01,  2.15498491e-01,  2.17497439e-01,  2.18952206e-01,\n",
       "        2.19775822e-01,  1.75926489e-01,  1.80167684e-01,  1.84368309e-01,\n",
       "        1.88515504e-01,  1.92592530e-01,  1.96576932e-01,  2.00438876e-01,\n",
       "        2.04139714e-01,  2.07630863e-01,  2.10853079e-01,  2.13736242e-01,\n",
       "        2.16199811e-01,  2.18154352e-01,  2.19505329e-01,  2.20165285e-01,\n",
       "        1.71653141e-01,  1.75929223e-01,  1.80199449e-01,  1.84451500e-01,\n",
       "        1.88669639e-01,  1.92832803e-01,  1.96912823e-01,  2.00872826e-01,\n",
       "        2.04665893e-01,  2.08234050e-01,  2.11507662e-01,  2.14405377e-01,\n",
       "        2.16834811e-01,  2.18694585e-01,  2.19880755e-01,  2.20337378e-01,\n",
       "        1.67385550e-01,  1.71649848e-01,  1.75942994e-01,  1.80253334e-01,\n",
       "        1.84566268e-01,  1.88862291e-01,  1.93115115e-01,  1.97289929e-01,\n",
       "        2.01341867e-01,  2.05214745e-01,  2.08840132e-01,  2.12136849e-01,\n",
       "        2.15011007e-01,  2.17356798e-01,  2.19058643e-01,  2.19999132e-01,\n",
       "        6.52994663e-01,  1.63170155e-01,  1.67376327e-01,  1.71645675e-01,\n",
       "        1.75967334e-01,  1.80327976e-01,  1.84709811e-01,  1.89088634e-01,\n",
       "        1.93431965e-01,  1.97697348e-01,  2.01830864e-01,  2.05765927e-01,\n",
       "        2.09422411e-01,  2.12706185e-01,  2.15509124e-01,  2.17709593e-01,\n",
       "        2.19172164e-01,  5.78701535e-01,  5.28737755e-01,  1.59052644e-01,\n",
       "        1.63155157e-01,  1.67354439e-01,  1.71640537e-01,  1.76001523e-01,\n",
       "        1.80421476e-01,  1.84878466e-01,  1.89342593e-01,  1.93774139e-01,\n",
       "        1.98121889e-01,  2.02321680e-01,  2.06295217e-01,  2.09949204e-01,\n",
       "        2.13174825e-01,  2.15847479e-01,  2.17826015e-01,  5.62421006e-01,\n",
       "        5.33354958e-01,  6.10465819e-01,  1.55077482e-01,  1.59032080e-01,\n",
       "        1.63115956e-01,  1.67320185e-01,  1.71634364e-01,  1.76044587e-01,\n",
       "        1.80531379e-01,  1.85067654e-01,  1.89616739e-01,  1.94130527e-01,\n",
       "        1.98547808e-01,  2.02792810e-01,  2.06774008e-01,  2.10383184e-01,\n",
       "        2.13494704e-01,  2.15964651e-01,  5.40214832e-01,  5.11760017e-01,\n",
       "        5.83339672e-01,  6.30633624e-01,  1.51287458e-01,  1.55051613e-01,\n",
       "        1.58976130e-01,  1.63053227e-01,  1.67274141e-01,  1.71627115e-01,\n",
       "        1.76095300e-01,  1.80654644e-01,  1.85271805e-01,  1.89902159e-01,\n",
       "        1.94487935e-01,  1.98956522e-01,  2.03218987e-01,  2.07168799e-01,\n",
       "        2.10680732e-01,  2.13609794e-01,  5.18524357e-01,  4.94437183e-01,\n",
       "        5.64561134e-01,  6.11408636e-01,  6.67346932e-01,  1.47723250e-01,\n",
       "        1.51256595e-01,  1.54979637e-01,  1.58885839e-01,  1.62968188e-01,\n",
       "        1.67217197e-01,  1.71618803e-01,  1.76152189e-01,  1.80787615e-01,\n",
       "        1.85484287e-01,  1.90188327e-01,  1.94830868e-01,  1.99326316e-01,\n",
       "        2.03570785e-01,  2.07440674e-01,  2.10791319e-01,  4.96984753e-01,\n",
       "        4.76531532e-01,  5.44007253e-01,  5.89902659e-01,  6.44653049e-01,\n",
       "        6.99828077e-01,  1.44423013e-01,  1.47687749e-01,  1.51169464e-01,\n",
       "        1.54862952e-01,  1.58763045e-01,  1.62862642e-01,  1.67150601e-01,\n",
       "        1.71609531e-01,  1.76213541e-01,  1.80925996e-01,  1.85697331e-01,\n",
       "        1.90462963e-01,  1.95141327e-01,  1.99632048e-01,  2.03814234e-01,\n",
       "        2.07544840e-01,  4.75553158e-01,  4.58636877e-01,  5.23775942e-01,\n",
       "        5.68970256e-01,  6.22539274e-01,  6.76611681e-01,  7.33377368e-01,\n",
       "        1.41421994e-01,  1.44383279e-01,  1.47586477e-01,  1.51027797e-01,\n",
       "        1.54703992e-01,  1.58610441e-01,  1.62739049e-01,  1.67076019e-01,\n",
       "        1.71599535e-01,  1.76277424e-01,  1.81064829e-01,  1.85901956e-01,\n",
       "        1.90711905e-01,  1.95398610e-01,  1.99844879e-01,  2.03910481e-01,\n",
       "        4.54233006e-01,  4.40712478e-01,  5.03509766e-01,  5.47910888e-01,\n",
       "        6.00264672e-01,  6.53250928e-01,  7.08903439e-01,  7.66655255e-01,\n",
       "        1.38752163e-01,  1.41378472e-01,  1.44269016e-01,  1.47421476e-01,\n",
       "        1.50834594e-01,  1.54506304e-01,  1.58431664e-01,  1.62600614e-01,\n",
       "        1.66995620e-01,  1.71589247e-01,  1.76341715e-01,  1.81198487e-01,\n",
       "        1.86087921e-01,  1.90919001e-01,  1.95579146e-01,  1.99932053e-01,\n",
       "        4.33010852e-01,  4.22759045e-01,  4.83255505e-01,  5.26871939e-01,\n",
       "        5.78030988e-01,  6.29931859e-01,  6.84465732e-01,  7.41107294e-01,\n",
       "        8.00002973e-01,  1.36441873e-01,  1.38705345e-01,  1.41252501e-01,\n",
       "        1.44082549e-01,  1.47196269e-01,  1.50594209e-01,  1.54274656e-01,\n",
       "        1.58231412e-01,  1.62451402e-01,  1.66912179e-01,  1.71579376e-01,\n",
       "        1.76404154e-01,  1.81320682e-01,  1.86243683e-01,  1.91066030e-01,\n",
       "        1.95656375e-01,  4.11874700e-01,  4.04781160e-01,  4.63008284e-01,\n",
       "        5.05827678e-01,  5.55789097e-01,  6.06601175e-01,  6.60017576e-01,\n",
       "        7.15550070e-01,  7.73334324e-01,  8.33332559e-01,  1.34515530e-01,\n",
       "        1.36392305e-01,  1.38569081e-01,  1.41046649e-01,  1.43827877e-01,\n",
       "        1.46915962e-01,  1.50312477e-01,  1.54015175e-01,  1.58015588e-01,\n",
       "        1.62296479e-01,  1.66829200e-01,  1.71571012e-01,  1.76462415e-01,\n",
       "        1.81424510e-01,  1.86356410e-01,  1.91132673e-01,  3.90811679e-01,\n",
       "        3.86781904e-01,  4.42767144e-01,  4.84781985e-01,  5.33549342e-01,\n",
       "        5.83273184e-01,  6.35572470e-01,  6.89995462e-01,  7.46668080e-01,\n",
       "        8.05555300e-01,  8.66666868e-01,  1.32993227e-01,  1.34463844e-01,\n",
       "        1.36247305e-01,  1.38346130e-01,  1.40765336e-01,  1.43510794e-01,\n",
       "        1.46587389e-01,  1.49996882e-01,  1.53735526e-01,  1.57791479e-01,\n",
       "        1.62142084e-01,  1.66751073e-01,  1.71565754e-01,  1.76514207e-01,\n",
       "        1.81502517e-01,  1.86412024e-01,  3.69808324e-01,  3.68764841e-01,\n",
       "        4.22531277e-01,  4.63734752e-01,  5.11309782e-01,  5.59944446e-01,\n",
       "        6.11126587e-01,  6.64440083e-01,  7.20001172e-01,  7.77777413e-01,\n",
       "        8.37777843e-01,  8.99999948e-01,  1.31890177e-01,  1.32940252e-01,\n",
       "        1.34311844e-01,  1.36009746e-01,  1.38041268e-01,  1.40414973e-01,\n",
       "        1.43139052e-01,  1.46219299e-01,  1.49656757e-01,  1.53445125e-01,\n",
       "        1.57567970e-01,  1.61995829e-01,  1.66683259e-01,  1.71565877e-01,\n",
       "        1.76557420e-01,  1.81546829e-01,  3.48850757e-01,  3.50733638e-01,\n",
       "        4.02299690e-01,  4.42686233e-01,  4.89070626e-01,  5.36615715e-01,\n",
       "        5.86680937e-01,  6.38884911e-01,  6.93334456e-01,  7.49999698e-01,\n",
       "        8.08888983e-01,  8.69999983e-01,  9.33333347e-01,  1.31215294e-01,\n",
       "        1.31837394e-01,  1.32783257e-01,  1.34062376e-01,  1.35684678e-01,\n",
       "        1.37661442e-01,  1.40004136e-01,  1.42722562e-01,  1.45822582e-01,\n",
       "        1.49303530e-01,  1.53155388e-01,  1.57355790e-01,  1.61866942e-01,\n",
       "        1.66632513e-01,  1.71574532e-01,  1.76590303e-01,  3.27924810e-01,\n",
       "        3.32692057e-01,  3.82071391e-01,  4.21636702e-01,  4.66831777e-01,\n",
       "        5.13286874e-01,  5.62235269e-01,  6.13329673e-01,  6.66667688e-01,\n",
       "        7.22221934e-01,  7.80000078e-01,  8.39999976e-01,  9.02222227e-01,\n",
       "        9.66666663e-01,  1.30965951e-01,  1.31166751e-01,  1.31677881e-01,\n",
       "        1.32524805e-01,  1.33720673e-01,  1.35279500e-01,  1.37215959e-01,\n",
       "        1.39543791e-01,  1.42273648e-01,  1.45410547e-01,  1.48951015e-01,\n",
       "        1.52880029e-01,  1.57167803e-01,  1.61766537e-01,  1.66607140e-01,\n",
       "        1.71595992e-01,  3.07016164e-01,  3.14643919e-01,  3.61845363e-01,\n",
       "        4.00586424e-01,  4.44593164e-01,  4.89957961e-01,  5.37789632e-01,\n",
       "        5.87774443e-01,  6.40000937e-01,  6.94444182e-01,  7.51111185e-01,\n",
       "        8.09999980e-01,  8.71111117e-01,  9.34444443e-01,  1.00000000e+00,\n",
       "        1.30937144e-01,  1.31007963e-01,  1.31413585e-01,  1.32170232e-01,\n",
       "        1.33294509e-01,  1.34804152e-01,  1.36716718e-01,  1.39047559e-01,\n",
       "        1.41807351e-01,  1.44999246e-01,  1.48615748e-01,  1.52635393e-01,\n",
       "        1.57019338e-01,  1.61707932e-01,  1.66617293e-01,  2.86110477e-01,\n",
       "        2.96593068e-01,  3.41620576e-01,  3.79535677e-01,  4.22354713e-01,\n",
       "        4.66628996e-01,  5.13344011e-01,  5.62219204e-01,  6.13334184e-01,\n",
       "        6.66666427e-01,  7.22222289e-01,  7.79999981e-01,  8.40000005e-01,\n",
       "        9.02222221e-01,  9.66666667e-01,  1.30782279e-01,  1.30741006e-01,\n",
       "        1.31050029e-01,  1.31727648e-01,  1.32794366e-01,  1.34271350e-01,\n",
       "        1.36178498e-01,  1.38532051e-01,  1.41341786e-01,  1.44607857e-01,\n",
       "        1.48317374e-01,  1.52440843e-01,  1.56928557e-01,  1.61707003e-01,\n",
       "        2.65193505e-01,  2.78543339e-01,  3.21396002e-01,  3.58484734e-01,\n",
       "        4.00116352e-01,  4.43299996e-01,  4.88898401e-01,  5.36663962e-01,\n",
       "        5.86667433e-01,  6.38888672e-01,  6.93333394e-01,  7.49999983e-01,\n",
       "        8.08888894e-01,  8.69999999e-01,  9.33333334e-01,  1.30515099e-01,\n",
       "        1.30372295e-01,  1.30595709e-01,  1.31208007e-01,  1.32233658e-01,\n",
       "        1.33696880e-01,  1.35619306e-01,  1.38017252e-01,  1.40898561e-01,\n",
       "        1.44259108e-01,  1.48079081e-01,  1.52319186e-01,  1.56916864e-01,\n",
       "        2.44251228e-01,  2.60498520e-01,  3.01170618e-01,  3.37433872e-01,\n",
       "        3.77878006e-01,  4.19970983e-01,  4.64452798e-01,  5.11108718e-01,\n",
       "        5.60000683e-01,  6.11110917e-01,  6.64444499e-01,  7.19999984e-01,\n",
       "        7.77777782e-01,  8.37777776e-01,  9.00000001e-01,  1.30144670e-01,\n",
       "        1.29910919e-01,  1.30062011e-01,  1.30625305e-01,  1.31629030e-01,\n",
       "        1.33099968e-01,  1.35060790e-01,  1.37526970e-01,  1.40503250e-01,\n",
       "        1.43979775e-01,  1.47928088e-01,  1.52297136e-01,  2.23269967e-01,\n",
       "        2.42462328e-01,  2.80943417e-01,  3.16383362e-01,  3.55639602e-01,\n",
       "        3.96641975e-01,  4.40007196e-01,  4.85553472e-01,  5.33333933e-01,\n",
       "        5.83333161e-01,  6.35555605e-01,  6.89999986e-01,  7.46666671e-01,\n",
       "        8.05555554e-01,  8.66666667e-01,  1.29680778e-01,  1.29368668e-01,\n",
       "        1.29463407e-01,  1.29996895e-01,  1.31000743e-01,  1.32503709e-01,\n",
       "        1.34528716e-01,  1.37089361e-01,  1.40185943e-01,  1.43801223e-01,\n",
       "        1.47896168e-01,  2.02236495e-01,  2.24438371e-01,  2.60713417e-01,\n",
       "        2.95333472e-01,  3.33401068e-01,  3.73312993e-01,  4.15561590e-01,\n",
       "        4.59998227e-01,  5.06667183e-01,  5.55555406e-01,  6.06666710e-01,\n",
       "        6.59999988e-01,  7.15555559e-01,  7.73333332e-01,  8.33333334e-01,\n",
       "        1.29135458e-01,  1.28760354e-01,  1.28817794e-01,  1.29343886e-01,\n",
       "        1.30373128e-01,  1.31935578e-01,  1.34053528e-01,  1.36737517e-01,\n",
       "        1.39981849e-01,  1.43760001e-01,  1.81138155e-01,  2.06430120e-01,\n",
       "        2.40479669e-01,  2.74284460e-01,  3.11162332e-01,  3.49984055e-01,\n",
       "        3.91115974e-01,  4.34442984e-01,  4.80000433e-01,  5.27777650e-01,\n",
       "        5.77777815e-01,  6.29999989e-01,  6.84444448e-01,  7.41111110e-01,\n",
       "        8.00000001e-01,  1.28523665e-01,  1.28104232e-01,  1.28146928e-01,\n",
       "        1.28691630e-01,  1.29775112e-01,  1.31427999e-01,  1.33670981e-01,\n",
       "        1.36510150e-01,  1.39931971e-01,  1.59962959e-01,  1.88440881e-01,\n",
       "        2.20241264e-01,  2.53236576e-01,  2.88923327e-01,  3.26655180e-01,\n",
       "        3.66670344e-01,  4.08887744e-01,  4.53333682e-01,  4.99999895e-01,\n",
       "        5.48888920e-01,  5.99999991e-01,  6.53333336e-01,  7.08888888e-01,\n",
       "        7.66666667e-01,  1.27863779e-01,  1.27422479e-01,  1.27476960e-01,\n",
       "        1.28070274e-01,  1.29240808e-01,  1.31019017e-01,  1.33422884e-01,\n",
       "        1.36452341e-01,  1.38699693e-01,  1.70473768e-01,  1.99997338e-01,\n",
       "        2.32190057e-01,  2.66683989e-01,  3.03326386e-01,  3.42224695e-01,\n",
       "        3.83332509e-01,  4.26666931e-01,  4.72222140e-01,  5.20000025e-01,\n",
       "        5.69999992e-01,  6.22222224e-01,  6.76666666e-01,  7.33333334e-01,\n",
       "        1.27178125e-01,  1.26741780e-01,  1.26839035e-01,  1.27515363e-01,\n",
       "        1.28810166e-01,  1.30753074e-01,  1.33357964e-01,  1.17338045e-01,\n",
       "        1.52531650e-01,  1.79747092e-01,  2.11145130e-01,  2.44444251e-01,\n",
       "        2.79997692e-01,  3.17779021e-01,  3.57777279e-01,  4.00000178e-01,\n",
       "        4.44444385e-01,  4.91111130e-01,  5.39999994e-01,  5.91111113e-01,\n",
       "        6.44444444e-01,  7.00000000e-01,  1.26493583e-01,  1.26094020e-01,\n",
       "        1.26269960e-01,  1.27068445e-01,  1.28529728e-01,  1.30681986e-01,\n",
       "        9.58684065e-02,  1.34617232e-01,  1.59489829e-01,  1.90101955e-01,\n",
       "        2.22204080e-01,  2.56669104e-01,  2.93333321e-01,  3.32222056e-01,\n",
       "        3.73333423e-01,  4.16666631e-01,  4.62222235e-01,  5.09999996e-01,\n",
       "        5.60000001e-01,  6.12222222e-01,  6.66666667e-01,  1.25842359e-01,\n",
       "        1.25517133e-01,  1.25812805e-01,  1.26777627e-01,  1.28453638e-01,\n",
       "        7.42832446e-02,  1.16733312e-01,  1.39224257e-01,  1.69061062e-01,\n",
       "        1.99963297e-01,  2.33340673e-01,  2.68887582e-01,  3.06666842e-01,\n",
       "        3.46666666e-01,  3.88888877e-01,  4.33333340e-01,  4.79999997e-01,\n",
       "        5.28888890e-01,  5.80000000e-01,  6.33333334e-01,  1.25263057e-01,\n",
       "        1.25056048e-01,  1.25517099e-01,  1.26698254e-01,  5.25773083e-02,\n",
       "        9.88747713e-02,  1.18954438e-01,  1.48020805e-01,  1.77722371e-01,\n",
       "        2.10012300e-01,  2.44441820e-01,  2.81111637e-01,  3.19999906e-01,\n",
       "        3.61111124e-01,  4.04444444e-01,  4.49999999e-01,  4.97777778e-01,\n",
       "        5.47777778e-01,  6.00000000e-01,  1.24802548e-01,  1.24763179e-01,\n",
       "        1.25437960e-01,  3.06766301e-02,  8.11051682e-02,  9.86534562e-02,\n",
       "        1.26988990e-01,  1.55479608e-01,  1.86684256e-01,  2.19996007e-01,\n",
       "        2.55556439e-01,  2.93333145e-01,  3.33333371e-01,  3.75555549e-01,\n",
       "        4.20000001e-01,  4.66666667e-01,  5.15555555e-01,  5.66666667e-01,\n",
       "        1.24520480e-01,  1.24694764e-01,  9.30469224e-03,  6.30390588e-02,\n",
       "        7.84366550e-02,  1.05941462e-01,  1.33238514e-01,  1.63356306e-01,\n",
       "        1.95550097e-01,  2.30001269e-01,  2.66666379e-01,  3.05555619e-01,\n",
       "        3.46666653e-01,  3.90000003e-01,  4.35555555e-01,  4.83333333e-01,\n",
       "        5.33333333e-01,  1.24504519e-01, -1.73144997e-02,  4.65268219e-02,\n",
       "        5.79379019e-02,  8.49252450e-02,  1.10997255e-01,  1.40027519e-01,\n",
       "        1.71104393e-01,  2.04446077e-01,  2.39999610e-01,  2.77777869e-01,\n",
       "        3.17777757e-01,  3.60000005e-01,  4.04444443e-01,  4.51111111e-01,\n",
       "        5.00000000e-01, -1.13025275e-02,  2.57142846e-02,  3.77131863e-02,\n",
       "        6.39538440e-02,  8.87369671e-02,  1.16702317e-01,  1.46658325e-01,\n",
       "        1.78890873e-01,  2.13332854e-01,  2.50000116e-01,  2.88888861e-01,\n",
       "        3.30000007e-01,  3.73333332e-01,  4.18888889e-01,  4.66666667e-01,\n",
       "       -1.55589767e-04,  1.91357900e-02,  4.26744619e-02,  6.65113961e-02,\n",
       "        9.33770294e-02,  1.22211227e-01,  1.53335946e-01,  1.86666057e-01,\n",
       "        2.22222366e-01,  2.59999966e-01,  3.00000008e-01,  3.42222220e-01,\n",
       "        3.86666667e-01,  4.33333333e-01,  3.13694668e-04,  2.11474444e-02,\n",
       "        4.43804565e-02,  7.00310868e-02,  9.77670523e-02,  1.27780857e-01,\n",
       "        1.59999210e-01,  1.94444635e-01,  2.31111067e-01,  2.70000010e-01,\n",
       "        3.11111109e-01,  3.54444445e-01,  4.00000000e-01, -7.08248199e-05,\n",
       "        2.22373109e-02,  4.66711163e-02,  7.33286506e-02,  1.02224391e-01,\n",
       "        1.33332586e-01,  1.66666884e-01,  2.02222166e-01,  2.40000014e-01,\n",
       "        2.79999997e-01,  3.22222223e-01,  3.66666666e-01,  8.41030601e-06,\n",
       "        2.33284207e-02,  4.88895988e-02,  7.66670736e-02,  1.06666326e-01,\n",
       "        1.38889041e-01,  1.73333281e-01,  2.10000015e-01,  2.48888885e-01,\n",
       "        2.90000001e-01,  3.33333333e-01,  1.08744856e-08,  2.44452509e-02,\n",
       "        5.11107840e-02,  8.00000305e-02,  1.11111145e-01,  1.44444420e-01,\n",
       "        1.80000011e-01,  2.17777774e-01,  2.57777779e-01,  2.99999999e-01,\n",
       "       -2.63115355e-07,  2.55554991e-02,  5.33333987e-02,  8.33333119e-02,\n",
       "        1.15555557e-01,  1.50000003e-01,  1.86666665e-01,  2.25555556e-01,\n",
       "        2.66666666e-01,  6.78261967e-08,  2.66666558e-02,  5.55555485e-02,\n",
       "        8.66666716e-02,  1.19999999e-01,  1.55555556e-01,  1.93333334e-01,\n",
       "        2.33333333e-01, -9.28844863e-09,  2.77777825e-02,  5.77777776e-02,\n",
       "        8.99999993e-02,  1.24444445e-01,  1.61111111e-01,  2.00000000e-01,\n",
       "        2.43318049e-10,  2.88888880e-02,  6.00000003e-02,  9.33333334e-02,\n",
       "        1.28888889e-01,  1.66666667e-01,  2.39705578e-10,  3.00000001e-02,\n",
       "        6.22222222e-02,  9.66666667e-02,  1.33333333e-01, -7.16832697e-11,\n",
       "        3.11111111e-02,  6.44444445e-02,  1.00000000e-01,  1.12857706e-11,\n",
       "        3.22222222e-02,  6.66666667e-02, -8.09528531e-13,  3.33333333e-02,\n",
       "       -6.55057673e-13])"
      ]
     },
     "execution_count": 156,
     "metadata": {},
     "output_type": "execute_result"
    }
   ],
   "source": [
    "w3.vector()[:]"
   ]
  },
  {
   "cell_type": "code",
   "execution_count": 157,
   "id": "aa0b4a77-386d-43a8-87aa-13c054e175ba",
   "metadata": {},
   "outputs": [
    {
     "data": {
      "text/plain": [
       "0.00017328888252091416"
      ]
     },
     "execution_count": 157,
     "metadata": {},
     "output_type": "execute_result"
    }
   ],
   "source": [
    "assemble( inner(w3- f, w3-f)*dx(2))"
   ]
  },
  {
   "cell_type": "code",
   "execution_count": null,
   "id": "6b1a0eed-480b-4c2e-82d1-eab963124ba4",
   "metadata": {},
   "outputs": [],
   "source": []
  },
  {
   "cell_type": "code",
   "execution_count": null,
   "id": "990f0609-17d8-462e-aa5c-3138f8a1fbf2",
   "metadata": {},
   "outputs": [],
   "source": []
  }
 ],
 "metadata": {
  "kernelspec": {
   "display_name": "Python 3 (ipykernel)",
   "language": "python",
   "name": "python3"
  },
  "language_info": {
   "codemirror_mode": {
    "name": "ipython",
    "version": 3
   },
   "file_extension": ".py",
   "mimetype": "text/x-python",
   "name": "python",
   "nbconvert_exporter": "python",
   "pygments_lexer": "ipython3",
   "version": "3.10.12"
  }
 },
 "nbformat": 4,
 "nbformat_minor": 5
}
