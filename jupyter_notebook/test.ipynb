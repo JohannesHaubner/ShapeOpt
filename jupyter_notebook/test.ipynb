{
 "cells": [
  {
   "cell_type": "code",
   "execution_count": 194,
   "id": "ca4e7f86-abeb-43ad-8d5f-b49126e29b92",
   "metadata": {},
   "outputs": [],
   "source": [
    "from dolfin import *"
   ]
  },
  {
   "cell_type": "markdown",
   "id": "e073ae66-1547-438c-a5e6-d031bb51f01f",
   "metadata": {},
   "source": [
    "# Define mesh"
   ]
  },
  {
   "cell_type": "code",
   "execution_count": 195,
   "id": "ab0ab8cf-93e8-4ff2-a949-13a93ae2bf3c",
   "metadata": {},
   "outputs": [],
   "source": [
    "N = 30\n",
    "#mesh = UnitIntervalMesh(N)\n",
    "mesh = UnitSquareMesh(N,N)"
   ]
  },
  {
   "cell_type": "code",
   "execution_count": 196,
   "id": "a0a0c1bf-d979-4fbd-8a84-12c7c05c8b9d",
   "metadata": {},
   "outputs": [
    {
     "data": {
      "text/plain": [
       "[<matplotlib.lines.Line2D at 0x7f876cd29a80>,\n",
       " <matplotlib.lines.Line2D at 0x7f876cce2650>]"
      ]
     },
     "execution_count": 196,
     "metadata": {},
     "output_type": "execute_result"
    },
    {
     "data": {
      "image/png": "[encoded data removed]",
      "text/plain": [
       "<Figure size 640x480 with 1 Axes>"
      ]
     },
     "metadata": {},
     "output_type": "display_data"
    }
   ],
   "source": [
    "plot(mesh)"
   ]
  },
  {
   "cell_type": "markdown",
   "id": "dade8284-3a6e-4e19-9360-b609b48045d1",
   "metadata": {},
   "source": [
    "# Label subdomains and Interface"
   ]
  },
  {
   "cell_type": "code",
   "execution_count": 197,
   "id": "b112dac6-1fe9-4b3a-b192-ec50045c3e82",
   "metadata": {},
   "outputs": [],
   "source": [
    "class Fluid(SubDomain):\n",
    "    def inside(self, x, on_boundary):\n",
    "        return x[0] <= 0.5\n",
    "\n",
    "class Solid(SubDomain):\n",
    "    def inside(self, x, on_boundary):\n",
    "        return x[0] >= 0.5\n",
    "\n",
    "class Interface(SubDomain):\n",
    "    def inside(self, x, on_boundary):\n",
    "        return x[0] == 0.5\n",
    "\n",
    "fluid = Fluid()\n",
    "solid = Solid()\n",
    "interface = Interface()\n",
    "\n",
    "sub_domains = MeshFunction(\"size_t\", mesh, mesh.topology().dim())\n",
    "sub_domains.set_all(0)\n",
    "fluid.mark(sub_domains, 1)\n",
    "solid.mark(sub_domains, 2)\n",
    "\n",
    "boundaries = MeshFunction(\"size_t\", mesh, mesh.topology().dim() - 1)\n",
    "boundaries.set_all(0)\n",
    "interface.mark(boundaries, 1)"
   ]
  },
  {
   "cell_type": "code",
   "execution_count": 198,
   "id": "0a4a436a-841e-4375-8042-756dd3d2ba58",
   "metadata": {},
   "outputs": [
    {
     "data": {
      "text/plain": [
       "array([0, 0, 0, ..., 0, 0, 0], dtype=uint64)"
      ]
     },
     "execution_count": 198,
     "metadata": {},
     "output_type": "execute_result"
    }
   ],
   "source": [
    "sub_domains.array()\n",
    "boundaries.array()"
   ]
  },
  {
   "cell_type": "markdown",
   "id": "7a9b19d7-b125-44c9-8be8-3710c3c3d377",
   "metadata": {},
   "source": [
    "# Define Function Spaces and Weak Variational Form"
   ]
  },
  {
   "cell_type": "code",
   "execution_count": 199,
   "id": "552eea27-bf79-427b-a909-10cc83131e09",
   "metadata": {},
   "outputs": [],
   "source": [
    "VE = FiniteElement(\"CG\", mesh.ufl_cell(), 1)\n",
    "V = FunctionSpace(mesh, MixedElement(VE, VE))\n",
    "F = FunctionSpace(mesh, VE)\n",
    "P = FunctionSpace(mesh, \"CG\", 1)"
   ]
  },
  {
   "cell_type": "code",
   "execution_count": 200,
   "id": "01af2cea-3df3-4fa2-8f79-ac22e161c815",
   "metadata": {},
   "outputs": [],
   "source": [
    "v = TrialFunction(V)\n",
    "psi = TestFunction(V)\n",
    "(w, z) = split(v)\n",
    "(psiw, psiz) = split(psi)"
   ]
  },
  {
   "cell_type": "markdown",
   "id": "ab697760-3c44-4cfb-b2f5-5700d7ab95bd",
   "metadata": {},
   "source": [
    "Define a function $f$ that we want to approximate"
   ]
  },
  {
   "cell_type": "code",
   "execution_count": 201,
   "id": "33e52eed-461e-4d10-8bbe-16ae4cd449ba",
   "metadata": {},
   "outputs": [],
   "source": [
    "fe = Expression(\"x[0]*x[1]\", degree = 1)\n",
    "f = project(fe, F)"
   ]
  },
  {
   "cell_type": "code",
   "execution_count": 202,
   "id": "2f77bf8c-9d98-405e-961d-ed294fb58860",
   "metadata": {},
   "outputs": [],
   "source": [
    "dx = Measure('dx', domain=mesh, subdomain_data=sub_domains)\n",
    "dS = Measure('dS', domain=mesh, subdomain_data=boundaries)\n",
    "n = FacetNormal(mesh)"
   ]
  },
  {
   "cell_type": "code",
   "execution_count": 203,
   "id": "965044ac-5191-46f2-811f-e25232bb5555",
   "metadata": {},
   "outputs": [
    {
     "data": {
      "text/plain": [
       "-1.0"
      ]
     },
     "execution_count": 203,
     "metadata": {},
     "output_type": "execute_result"
    }
   ],
   "source": [
    "assemble( inner(n(\"-\"), n(\"+\"))*dS(1))"
   ]
  },
  {
   "cell_type": "code",
   "execution_count": 204,
   "id": "0c949fca-5819-4155-9cea-e50c43a79f65",
   "metadata": {},
   "outputs": [],
   "source": [
    "with_iota = False #False/True\n",
    "alpha = 1e-5"
   ]
  },
  {
   "cell_type": "code",
   "execution_count": 205,
   "id": "c13684a1-899c-411d-b27e-69158ebfedd2",
   "metadata": {},
   "outputs": [],
   "source": [
    "iota = interpolate(Constant(1.0), P)\n",
    "if with_iota: # in this case iota is chosen as constantly one (= no iota)\n",
    "    bc = DirichletBC(P, Constant(0.0), boundaries, 1)\n",
    "    bc.apply(iota.vector())"
   ]
  },
  {
   "cell_type": "code",
   "execution_count": 206,
   "id": "cd0380cf-77da-4cb4-88ca-e04f81630202",
   "metadata": {},
   "outputs": [],
   "source": [
    "a = inner(grad(w), grad(psiz))*dx(1) - inner(z, psiz)*dx(1) \\\n",
    "+ alpha * inner(grad(z), grad(psiw*iota))*dx(1) + inner(w, psiw)*dx(2) + alpha * inner(grad(z), grad(psiz *iota))*dx(2) \\\n",
    "+ alpha * (- inner(grad(z)(\"-\"), iota(\"-\") * psiw(\"-\")* n(\"-\"))*dS(1) - inner(grad(z)(\"+\"), iota(\"+\")*psiz(\"+\")* n(\"+\"))*dS(1))"
   ]
  },
  {
   "cell_type": "code",
   "execution_count": 207,
   "id": "1aa02e85-944b-476e-a98b-bb0490990ce0",
   "metadata": {},
   "outputs": [],
   "source": [
    "L = inner(f, psiw)*dx(2)"
   ]
  },
  {
   "cell_type": "code",
   "execution_count": 208,
   "id": "046b29c8-ec4b-45b9-b626-90604fdadcc5",
   "metadata": {},
   "outputs": [],
   "source": [
    "v2 = Function(V)"
   ]
  },
  {
   "cell_type": "code",
   "execution_count": 209,
   "id": "c9f706a4-6c1d-4f61-a245-ba7522aab7a5",
   "metadata": {},
   "outputs": [
    {
     "name": "stdout",
     "output_type": "stream",
     "text": [
      "Solving linear variational problem.\n"
     ]
    }
   ],
   "source": [
    "solve(a == L, v2, [])"
   ]
  },
  {
   "cell_type": "code",
   "execution_count": 210,
   "id": "388d1785-6ab5-459f-b4db-c47fb17d59d1",
   "metadata": {},
   "outputs": [],
   "source": [
    "(w2, z2) = split(v2)"
   ]
  },
  {
   "cell_type": "code",
   "execution_count": 211,
   "id": "5f754ae8-76ca-41ed-953d-5b08917a49b1",
   "metadata": {},
   "outputs": [
    {
     "name": "stdout",
     "output_type": "stream",
     "text": [
      "Object cannot be plotted directly, projecting to piecewise linears.\n"
     ]
    },
    {
     "data": {
      "text/plain": [
       "<matplotlib.tri.tricontour.TriContourSet at 0x7f876d0d5c90>"
      ]
     },
     "execution_count": 211,
     "metadata": {},
     "output_type": "execute_result"
    },
    {
     "data": {
      "image/png": "[encoded data removed]",
      "text/plain": [
       "<Figure size 640x480 with 1 Axes>"
      ]
     },
     "metadata": {},
     "output_type": "display_data"
    }
   ],
   "source": [
    "plot(w2)"
   ]
  },
  {
   "cell_type": "code",
   "execution_count": 212,
   "id": "0ab73f10-02da-4fe1-abbd-e69a154cc3b2",
   "metadata": {},
   "outputs": [],
   "source": [
    "w3, z3 = v2.split(deepcopy=True)"
   ]
  },
  {
   "cell_type": "code",
   "execution_count": 213,
   "id": "8b5a18c6-fa5c-4747-a4c7-13ff169e2415",
   "metadata": {},
   "outputs": [
    {
     "data": {
      "text/plain": [
       "<matplotlib.tri.tricontour.TriContourSet at 0x7f876ca151e0>"
      ]
     },
     "execution_count": 213,
     "metadata": {},
     "output_type": "execute_result"
    },
    {
     "data": {
      "image/png": "[encoded data removed]",
      "text/plain": [
       "<Figure size 640x480 with 1 Axes>"
      ]
     },
     "metadata": {},
     "output_type": "display_data"
    }
   ],
   "source": [
    "plot(w3)"
   ]
  },
  {
   "cell_type": "code",
   "execution_count": 214,
   "id": "39aed129-3f97-4c4d-a9b8-bbb6fd60a88f",
   "metadata": {},
   "outputs": [
    {
     "data": {
      "text/plain": [
       "array([ 4.19556046e-01,  4.18683136e-01,  4.19957273e-01,  4.15778321e-01,\n",
       "        4.18994880e-01,  4.20861607e-01,  4.10934346e-01,  4.16056812e-01,\n",
       "        4.19867341e-01,  4.22305986e-01,  4.04245919e-01,  4.11187938e-01,\n",
       "        4.16881046e-01,  4.21287110e-01,  4.24291651e-01,  3.95827107e-01,\n",
       "        4.04473466e-01,  4.11950705e-01,  4.18236061e-01,  4.23243562e-01,\n",
       "        4.26805958e-01,  3.85811204e-01,  3.96026486e-01,  4.05162720e-01,\n",
       "        4.13209017e-01,  4.20105891e-01,  4.25720352e-01,  4.29826777e-01,\n",
       "        3.74346258e-01,  3.85981350e-01,  3.96633596e-01,  4.06299882e-01,\n",
       "        4.14943950e-01,  4.22469502e-01,  4.28693348e-01,  4.33322076e-01,\n",
       "        3.61589680e-01,  3.74487575e-01,  3.86502349e-01,  3.97633630e-01,\n",
       "        4.07863326e-01,  4.17129797e-01,  4.25298205e-01,  4.32128728e-01,\n",
       "        4.37247127e-01,  3.47703158e-01,  3.61703935e-01,  3.74923333e-01,\n",
       "        3.87358324e-01,  3.99002376e-01,  4.09822804e-01,  4.19732104e-01,\n",
       "        4.28553169e-01,  4.35979818e-01,  4.41539234e-01,  3.32848472e-01,\n",
       "        3.47793166e-01,  3.62059585e-01,  3.75636979e-01,  3.88522986e-01,\n",
       "        4.00705571e-01,  4.12137951e-01,  4.22705260e-01,  4.32182000e-01,\n",
       "        4.40181766e-01,  4.46108812e-01,  3.17184485e-01,  3.32917675e-01,\n",
       "        3.48077073e-01,  3.62640029e-01,  3.76601051e-01,  3.89959109e-01,\n",
       "        4.02697752e-01,  4.14756211e-01,  4.25989192e-01,  4.36113443e-01,\n",
       "        4.44642681e-01,  4.50824527e-01,  3.00865457e-01,  3.17236510e-01,\n",
       "        3.33140157e-01,  3.48538937e-01,  3.63417756e-01,  3.77776820e-01,\n",
       "        3.91617728e-01,  4.04920693e-01,  4.17610063e-01,  4.29504559e-01,\n",
       "        4.40248958e-01,  4.49228875e-01,  4.55488712e-01,  2.84040639e-01,\n",
       "        3.00903690e-01,  3.17408489e-01,  3.33501327e-01,  3.49152390e-01,\n",
       "        3.64354199e-01,  3.79113880e-01,  3.93437202e-01,  4.07301477e-01,\n",
       "        4.20613283e-01,  4.33145604e-01,  4.44449122e-01,  4.53739770e-01,\n",
       "        4.59797742e-01,  2.66855039e-01,  2.84067848e-01,  3.01035395e-01,\n",
       "        3.17687799e-01,  3.33977088e-01,  3.49880692e-01,  3.65399721e-01,\n",
       "        3.80549902e-01,  3.95342362e-01,  4.09750336e-01,  4.23656028e-01,\n",
       "        4.36769537e-01,  4.48511337e-01,  4.57863441e-01,  4.63285203e-01,\n",
       "        2.49451114e-01,  2.66873068e-01,  2.84167674e-01,  3.01250439e-01,\n",
       "        3.18053611e-01,  3.34534044e-01,  3.50677050e-01,  3.66494000e-01,\n",
       "        3.82010880e-01,  3.97244150e-01,  4.12158590e-01,  4.26598712e-01,\n",
       "        4.40180986e-01,  4.52132455e-01,  4.61090524e-01,  4.65282973e-01,\n",
       "        2.31971155e-01,  2.49460673e-01,  2.66946648e-01,  2.84332885e-01,\n",
       "        3.01532088e-01,  3.18477164e-01,  3.35130036e-01,  3.51485507e-01,\n",
       "        3.67567260e-01,  3.83412498e-01,  3.99040506e-01,  4.14397595e-01,\n",
       "        4.29265364e-01,  4.43110250e-01,  4.54844679e-01,  4.62515585e-01,\n",
       "        5.45408491e-01,  2.14560004e-01,  2.31971701e-01,  2.49510213e-01,\n",
       "        2.67071746e-01,  2.84551496e-01,  3.01857258e-01,  3.18922370e-01,\n",
       "        3.35715324e-01,  3.52242873e-01,  3.68543023e-01,  3.84663601e-01,\n",
       "        4.00620023e-01,  4.16320910e-01,  4.31439339e-01,  4.45186644e-01,\n",
       "        4.55906502e-01,  5.19083205e-01,  5.63512944e-01,  1.97367774e-01,\n",
       "        2.14549737e-01,  2.31995620e-01,  2.49599094e-01,  2.67241612e-01,\n",
       "        2.84806915e-01,  3.02197050e-01,  3.19347063e-01,  3.36234877e-01,\n",
       "        3.52882386e-01,  3.69343464e-01,  3.85673463e-01,  4.01871151e-01,\n",
       "        4.17774554e-01,  4.32869917e-01,  4.45920270e-01,  4.99715871e-01,\n",
       "        5.47330264e-01,  6.00686905e-01,  1.80552199e-01,  1.97343753e-01,\n",
       "        2.14542622e-01,  2.32045727e-01,  2.49726112e-01,  2.67446756e-01,\n",
       "        2.85078281e-01,  3.02517822e-01,  3.19705271e-01,  3.36632390e-01,\n",
       "        3.53340107e-01,  3.69898938e-01,  3.86365589e-01,  4.02702073e-01,\n",
       "        4.18625643e-01,  4.33312286e-01,  4.80473352e-01,  5.28546735e-01,\n",
       "        5.80028314e-01,  6.33204027e-01,  1.64280234e-01,  1.80510567e-01,\n",
       "        1.97296668e-01,  2.14544862e-01,  2.32126509e-01,  2.49889308e-01,\n",
       "        2.67675004e-01,  2.85341160e-01,  3.02783108e-01,  3.19951057e-01,\n",
       "        3.36856895e-01,  3.53565371e-01,  3.70163965e-01,  3.86702311e-01,\n",
       "        4.03080069e-01,  4.18829482e-01,  4.61882874e-01,  5.10004073e-01,\n",
       "        5.60056606e-01,  6.12227804e-01,  6.66687809e-01,  1.48728566e-01,\n",
       "        1.64216563e-01,  1.80411714e-01,  1.97235891e-01,  2.14566572e-01,\n",
       "        2.32243762e-01,  2.50085680e-01,  2.67911680e-01,  2.85568840e-01,\n",
       "        3.02956822e-01,  3.20044626e-01,  3.36873000e-01,  3.53537000e-01,\n",
       "        3.70142712e-01,  3.86726336e-01,  4.03104190e-01,  4.43706117e-01,\n",
       "        4.91266334e-01,  5.39971880e-01,  5.91103778e-01,  6.44441534e-01,\n",
       "        6.99997109e-01,  1.34082742e-01,  1.48638304e-01,  1.64052301e-01,\n",
       "        1.80267799e-01,  1.97176869e-01,  2.14621294e-01,  2.32403985e-01,\n",
       "        2.50310802e-01,  2.68140081e-01,  2.85734524e-01,  3.03008266e-01,\n",
       "        3.19961459e-01,  3.36675916e-01,  3.53287139e-01,  3.69927507e-01,\n",
       "        3.86626915e-01,  4.25790759e-01,  4.72445213e-01,  5.19947394e-01,\n",
       "        5.70012757e-01,  6.22222306e-01,  6.76667545e-01,  7.33333599e-01,\n",
       "        1.20534700e-01,  1.33961730e-01,  1.48394475e-01,  1.63801830e-01,\n",
       "        1.80099027e-01,  1.97140588e-01,  2.14725143e-01,  2.32613443e-01,\n",
       "        2.50558375e-01,  2.68342399e-01,  2.85814797e-01,  3.02919523e-01,\n",
       "        3.19705262e-01,  3.36312293e-01,  3.52934290e-01,  3.69753411e-01,\n",
       "        4.08025262e-01,  4.53569970e-01,  4.99937040e-01,  5.48904638e-01,\n",
       "        5.99995687e-01,  6.53333753e-01,  7.08888649e-01,  7.66666684e-01,\n",
       "        1.08278639e-01,  1.20379739e-01,  1.33625235e-01,  1.48012956e-01,\n",
       "        1.63489242e-01,  1.79933161e-01,  1.97152585e-01,  2.14895404e-01,\n",
       "        2.32876808e-01,  2.50819749e-01,  2.68501353e-01,  2.85794811e-01,\n",
       "        3.02695757e-01,  3.19325206e-01,  3.35907159e-01,  3.52725593e-01,\n",
       "        3.90330088e-01,  4.34666175e-01,  4.79937955e-01,  5.27794814e-01,\n",
       "        5.77773368e-01,  6.30001280e-01,  6.84444237e-01,  7.41111177e-01,\n",
       "        7.99999980e-01,  9.75052908e-02,  1.08088043e-01,  1.19940245e-01,\n",
       "        1.33089766e-01,  1.47520569e-01,  1.63148004e-01,  1.79804557e-01,\n",
       "        1.97241257e-01,  2.15148386e-01,  2.33195272e-01,  2.51083525e-01,\n",
       "        2.68602819e-01,  2.85675583e-01,  3.02378706e-01,  3.18937197e-01,\n",
       "        3.35695581e-01,  3.72653254e-01,  4.15751331e-01,  4.59943900e-01,\n",
       "        5.06682592e-01,  5.55551078e-01,  6.06667853e-01,  6.59999648e-01,\n",
       "        7.15555629e-01,  7.73333315e-01,  8.33333342e-01,  8.83948104e-02,\n",
       "        9.72793905e-02,  1.07539674e-01,  1.19232421e-01,  1.32383472e-01,\n",
       "        1.46954977e-01,  1.62820165e-01,  1.79752395e-01,  1.97435129e-01,\n",
       "        2.15496237e-01,  2.33564067e-01,  2.51335416e-01,  2.68639844e-01,\n",
       "        2.85483708e-01,  3.02063068e-01,  3.18747448e-01,  3.54963772e-01,\n",
       "        3.96836333e-01,  4.39951152e-01,  4.85569618e-01,  5.33329306e-01,\n",
       "        5.83334485e-01,  6.35555244e-01,  6.90000093e-01,  7.46666644e-01,\n",
       "        8.05555561e-01,  8.66666664e-01,  8.11085686e-02,  8.81364184e-02,\n",
       "        9.66222384e-02,  1.06648483e-01,  1.18284196e-01,  1.31546331e-01,\n",
       "        1.46364228e-01,  1.62554772e-01,  1.79817675e-01,  1.97758643e-01,\n",
       "        2.15942485e-01,  2.33969419e-01,  2.51558694e-01,  2.68618476e-01,\n",
       "        2.85283500e-01,  3.01914403e-01,  3.37246421e-01,  3.77927220e-01,\n",
       "        4.19957497e-01,  4.64456631e-01,  5.11107602e-01,  5.60001009e-01,\n",
       "        6.11110819e-01,  6.64444525e-01,  7.19999976e-01,  7.77777784e-01,\n",
       "        8.37777776e-01,  9.00000001e-01,  7.57797188e-02,  8.08236115e-02,\n",
       "        8.73777291e-02,  9.55466212e-02,  1.05440640e-01,  1.17135748e-01,\n",
       "        1.30630151e-01,  1.45805593e-01,  1.62404951e-01,  1.80038361e-01,\n",
       "        1.98225972e-01,  2.16476084e-01,  2.34385171e-01,  2.51735829e-01,\n",
       "        2.68565882e-01,  2.85191020e-01,  3.19497813e-01,  3.59026376e-01,\n",
       "        3.99961839e-01,  4.43344066e-01,  4.88885836e-01,  5.36667542e-01,\n",
       "        5.86666415e-01,  6.38888962e-01,  6.93333313e-01,  7.50000006e-01,\n",
       "        8.08888887e-01,  8.70000000e-01,  9.33333333e-01,  7.25002646e-02,\n",
       "        7.54791390e-02,  7.99786131e-02,  8.61284600e-02,  9.40755954e-02,\n",
       "        1.03954375e-01,  1.15839996e-01,  1.29698032e-01,  1.45343134e-01,\n",
       "        1.62422920e-01,  1.80441922e-01,  1.98832341e-01,  2.17063987e-01,\n",
       "        2.34769708e-01,  2.51852262e-01,  2.68541281e-01,  3.01723718e-01,\n",
       "        3.40133408e-01,  3.79963935e-01,  4.22232096e-01,  4.66663926e-01,\n",
       "        5.13334104e-01,  5.62222003e-01,  6.13333396e-01,  6.66666648e-01,\n",
       "        7.22222227e-01,  7.79999999e-01,  8.40000000e-01,  9.02222222e-01,\n",
       "        9.66666667e-01,  7.12920270e-02,  7.22083452e-02,  7.45716353e-02,\n",
       "        7.85791544e-02,  8.44075819e-02,  9.22435718e-02,  1.02240951e-01,\n",
       "        1.14462834e-01,  1.28822782e-01,  1.45043158e-01,  1.62651904e-01,\n",
       "        1.81034367e-01,  1.99542499e-01,  2.17642737e-01,  2.35064496e-01,\n",
       "        2.51903888e-01,  2.83937329e-01,  3.21245730e-01,  3.59964201e-01,\n",
       "        4.01120692e-01,  4.44441854e-01,  4.90000709e-01,  5.37777581e-01,\n",
       "        5.87777833e-01,  6.39999984e-01,  6.94444449e-01,  7.51111110e-01,\n",
       "        8.10000000e-01,  8.71111111e-01,  9.34444444e-01,  1.00000000e+00,\n",
       "        7.10859908e-02,  7.12708986e-02,  7.30576062e-02,  7.66398294e-02,\n",
       "        8.22444331e-02,  9.00976425e-02,  1.00365671e-01,  1.13082666e-01,\n",
       "        1.28083421e-01,  1.44966335e-01,  1.63113617e-01,  1.81784847e-01,\n",
       "        2.00276397e-01,  2.18110440e-01,  2.35196655e-01,  2.66158027e-01,\n",
       "        3.02358936e-01,  3.39963584e-01,  3.80009667e-01,  4.22219651e-01,\n",
       "        4.66667355e-01,  5.13333147e-01,  5.62222273e-01,  6.13333319e-01,\n",
       "        6.66666671e-01,  7.22222221e-01,  7.80000000e-01,  8.40000000e-01,\n",
       "        9.02222222e-01,  9.66666667e-01,  7.01544314e-02,  6.96874304e-02,\n",
       "        7.09483853e-02,  7.41846544e-02,  7.96801483e-02,  8.76992675e-02,\n",
       "        9.84086835e-02,  1.11788493e-01,  1.27558439e-01,  1.45154718e-01,\n",
       "        1.63789703e-01,  1.82605154e-01,  2.00893065e-01,  2.18321977e-01,\n",
       "        2.48410127e-01,  2.83467124e-01,  3.19963477e-01,  3.58898706e-01,\n",
       "        3.99997385e-01,  4.43334028e-01,  4.88888704e-01,  5.36666716e-01,\n",
       "        5.86666653e-01,  6.38888893e-01,  6.93333332e-01,  7.50000000e-01,\n",
       "        8.08888889e-01,  8.70000000e-01,  9.33333333e-01,  6.85494966e-02,\n",
       "        6.74705537e-02,  6.82638340e-02,  7.12481911e-02,  7.67698037e-02,\n",
       "        8.51263077e-02,  9.64650302e-02,  1.10675274e-01,  1.27313758e-01,\n",
       "        1.45611300e-01,  1.64595379e-01,  1.83324169e-01,  2.01175388e-01,\n",
       "        2.30721062e-01,  2.64563284e-01,  2.99965626e-01,  3.37787384e-01,\n",
       "        3.77775155e-01,  4.20000705e-01,  4.64444257e-01,  5.11111161e-01,\n",
       "        5.59999987e-01,  6.11111115e-01,  6.64444443e-01,  7.20000000e-01,\n",
       "        7.77777778e-01,  8.37777778e-01,  9.00000000e-01,  6.62948394e-02,\n",
       "        6.46387769e-02,  6.50327920e-02,  6.78778941e-02,  7.35854969e-02,\n",
       "        8.24751904e-02,  9.46429317e-02,  1.09834418e-01,  1.27382319e-01,\n",
       "        1.46269031e-01,  1.65343809e-01,  1.83658970e-01,  2.13118496e-01,\n",
       "        2.45639913e-01,  2.79972001e-01,  3.16675198e-01,  3.55553088e-01,\n",
       "        3.96667356e-01,  4.39999812e-01,  4.85555606e-01,  5.33333320e-01,\n",
       "        5.83333337e-01,  6.35555555e-01,  6.90000000e-01,  7.46666667e-01,\n",
       "        8.05555556e-01,  8.66666667e-01,  6.34106191e-02,  6.12174196e-02,\n",
       "        6.12955431e-02,  6.41379694e-02,  7.02205113e-02,  7.98626423e-02,\n",
       "        9.30583986e-02,  1.09335925e-01,  1.27730900e-01,  1.46945772e-01,\n",
       "        1.65700917e-01,  1.95625934e-01,  2.26689981e-01,  2.59984588e-01,\n",
       "        2.95561610e-01,  3.33331323e-01,  3.73333946e-01,  4.15555378e-01,\n",
       "        4.60000050e-01,  5.06666653e-01,  5.55555559e-01,  6.06666666e-01,\n",
       "        6.60000000e-01,  7.15555555e-01,  7.73333333e-01,  8.33333333e-01,\n",
       "        5.99212472e-02,  5.72416957e-02,  5.71082390e-02,  6.01152071e-02,\n",
       "        6.67946096e-02,  7.74257131e-02,  9.18227630e-02,  1.09196651e-01,\n",
       "        1.28208130e-01,  1.47281726e-01,  1.78256590e-01,  2.07708332e-01,\n",
       "        2.40005076e-01,  2.74446114e-01,  3.11110006e-01,  3.50000435e-01,\n",
       "        3.91110967e-01,  4.34444488e-01,  4.79999987e-01,  5.27777781e-01,\n",
       "        5.77777777e-01,  6.30000000e-01,  6.84444444e-01,  7.41111111e-01,\n",
       "        8.00000000e-01,  5.58600217e-02,  5.27616599e-02,  5.25499647e-02,\n",
       "        5.59275040e-02,  6.34601618e-02,  7.53174227e-02,  9.10171567e-02,\n",
       "        1.09326281e-01,  1.28466212e-01,  1.61005535e-01,  1.88693570e-01,\n",
       "        2.20034412e-01,  2.53328340e-01,  2.88889255e-01,  3.26666786e-01,\n",
       "        3.66666587e-01,  4.08888920e-01,  4.53333323e-01,  5.00000003e-01,\n",
       "        5.48888888e-01,  6.00000000e-01,  6.53333333e-01,  7.08888889e-01,\n",
       "        7.66666667e-01,  5.12745029e-02,  4.78500608e-02,  4.77338102e-02,\n",
       "        5.17359960e-02,  6.04079102e-02,  7.36927078e-02,  9.06438267e-02,\n",
       "        1.09438848e-01,  1.43840556e-01,  1.69650355e-01,  2.00072242e-01,\n",
       "        2.32208188e-01,  2.66669140e-01,  3.03332974e-01,  3.42222249e-01,\n",
       "        3.83333342e-01,  4.26666661e-01,  4.72222224e-01,  5.19999999e-01,\n",
       "        5.70000000e-01,  6.22222222e-01,  6.76666667e-01,  7.33333333e-01,\n",
       "        4.62346495e-02,  4.26150642e-02,  4.28241443e-02,  4.77616635e-02,\n",
       "        5.78690770e-02,  7.26744793e-02,  9.05378599e-02,  1.26692667e-01,\n",
       "        1.50591936e-01,  1.80116250e-01,  2.11085994e-01,  2.44449634e-01,\n",
       "        2.79998992e-01,  3.17777955e-01,  3.57777752e-01,  4.00000002e-01,\n",
       "        4.44444445e-01,  4.91111111e-01,  5.40000000e-01,  5.91111111e-01,\n",
       "        6.44444444e-01,  7.00000000e-01,  4.08460946e-02,  3.72212043e-02,\n",
       "        3.80633334e-02,  4.43064170e-02,  5.61060222e-02,  7.22811053e-02,\n",
       "        1.09447737e-01,  1.31542619e-01,  1.60161494e-01,  1.89962699e-01,\n",
       "        2.22230576e-01,  2.56664861e-01,  2.93333706e-01,  3.32222150e-01,\n",
       "        3.73333346e-01,  4.16666665e-01,  4.62222222e-01,  5.10000000e-01,\n",
       "        5.60000000e-01,  6.12222222e-01,  6.66666667e-01,  3.52725723e-02,\n",
       "        3.19243224e-02,  3.38120592e-02,  4.17758486e-02,  5.53747118e-02,\n",
       "        9.19418325e-02,  1.12539714e-01,  1.40199628e-01,  1.68840128e-01,\n",
       "        2.00011583e-01,  2.33330658e-01,  2.68889488e-01,  3.06666537e-01,\n",
       "        3.46666693e-01,  3.88888884e-01,  4.33333334e-01,  4.80000000e-01,\n",
       "        5.28888889e-01,  5.80000000e-01,  6.33333333e-01,  2.97752616e-02,\n",
       "        2.71299951e-02,  3.06066400e-02,  4.06943360e-02,  7.39624679e-02,\n",
       "        9.36321572e-02,  1.20219964e-01,  1.47720537e-01,  1.77792179e-01,\n",
       "        2.09996485e-01,  2.44445278e-01,  2.81110919e-01,  3.20000043e-01,\n",
       "        3.61111102e-01,  4.04444446e-01,  4.50000000e-01,  4.97777778e-01,\n",
       "        5.47777778e-01,  6.00000000e-01,  2.47862212e-02,  2.34876556e-02,\n",
       "        2.92314774e-02,  5.52402059e-02,  7.48975050e-02,  1.00201129e-01,\n",
       "        1.26609271e-01,  1.55571165e-01,  1.86662584e-01,  2.20001032e-01,\n",
       "        2.55555303e-01,  2.93333393e-01,  3.33333319e-01,  3.75555559e-01,\n",
       "        4.19999999e-01,  4.66666667e-01,  5.15555556e-01,  5.66666667e-01,\n",
       "        2.10613781e-02,  2.20121147e-02,  3.56781947e-02,  5.63170062e-02,\n",
       "        8.01508932e-02,  1.05505659e-01,  1.33348142e-01,  1.63329184e-01,\n",
       "        1.95556674e-01,  2.29999708e-01,  2.66666740e-01,  3.05555537e-01,\n",
       "        3.46666671e-01,  3.89999999e-01,  4.35555556e-01,  4.83333333e-01,\n",
       "        5.33333333e-01,  2.00618003e-02,  1.36373247e-02,  3.83815920e-02,\n",
       "        5.99717945e-02,  8.44237697e-02,  1.11121732e-01,  1.39996357e-01,\n",
       "        1.71112195e-01,  2.04444143e-01,  2.40000081e-01,  2.77777757e-01,\n",
       "        3.17777783e-01,  3.59999999e-01,  4.04444445e-01,  4.51111111e-01,\n",
       "        5.00000000e-01, -2.32263279e-03,  1.99205388e-02,  3.97411450e-02,\n",
       "        6.33770491e-02,  8.88858102e-02,  1.16665428e-01,  1.46667399e-01,\n",
       "        1.78888628e-01,  2.13333412e-01,  2.49999978e-01,  2.88888895e-01,\n",
       "        3.29999998e-01,  3.73333334e-01,  4.18888889e-01,  4.66666667e-01,\n",
       "        9.16029642e-05,  1.98366245e-02,  4.22877535e-02,  6.66496545e-02,\n",
       "        9.33363950e-02,  1.22221964e-01,  1.53333257e-01,  1.86666717e-01,\n",
       "        2.22222204e-01,  2.60000006e-01,  2.99999998e-01,  3.42222223e-01,\n",
       "        3.86666667e-01,  4.33333333e-01,  3.64661958e-05,  2.11249686e-02,\n",
       "        4.44329259e-02,  7.00043614e-02,  9.77766343e-02,  1.27777991e-01,\n",
       "        1.59999980e-01,  1.94444440e-01,  2.31111115e-01,  2.69999999e-01,\n",
       "        3.11111112e-01,  3.54444444e-01,  4.00000000e-01, -1.13642484e-05,\n",
       "        2.22233378e-02,  4.66679244e-02,  7.33325197e-02,  1.02222518e-01,\n",
       "        1.33333255e-01,  1.66666682e-01,  2.02222221e-01,  2.40000000e-01,\n",
       "        2.80000000e-01,  3.22222222e-01,  3.66666667e-01,  1.77303434e-06,\n",
       "        2.33326342e-02,  4.88888967e-02,  7.66667686e-02,  1.06666609e-01,\n",
       "        1.38888909e-01,  1.73333328e-01,  2.10000001e-01,  2.48888889e-01,\n",
       "        2.90000000e-01,  3.33333333e-01, -1.06988795e-07,  2.44445917e-02,\n",
       "        5.11110698e-02,  7.99999968e-02,  1.11111119e-01,  1.44444440e-01,\n",
       "        1.80000001e-01,  2.17777777e-01,  2.57777778e-01,  3.00000000e-01,\n",
       "       -2.74860611e-08,  2.55555390e-02,  5.33333443e-02,  8.33333310e-02,\n",
       "        1.15555555e-01,  1.50000001e-01,  1.86666666e-01,  2.25555556e-01,\n",
       "        2.66666667e-01,  1.05358659e-08,  2.66666663e-02,  5.55555539e-02,\n",
       "        8.66666674e-02,  1.20000000e-01,  1.55555556e-01,  1.93333333e-01,\n",
       "        2.33333333e-01, -1.87883114e-09,  2.77777784e-02,  5.77777779e-02,\n",
       "        8.99999999e-02,  1.24444444e-01,  1.61111111e-01,  2.00000000e-01,\n",
       "        1.53129665e-10,  2.88888887e-02,  6.00000000e-02,  9.33333333e-02,\n",
       "        1.28888889e-01,  1.66666667e-01,  2.10323435e-11,  3.00000000e-02,\n",
       "        6.22222222e-02,  9.66666667e-02,  1.33333333e-01, -1.06551745e-11,\n",
       "        3.11111111e-02,  6.44444444e-02,  1.00000000e-01,  2.16716065e-12,\n",
       "        3.22222222e-02,  6.66666667e-02, -2.69882993e-13,  3.33333333e-02,\n",
       "       -4.12389849e-14])"
      ]
     },
     "execution_count": 214,
     "metadata": {},
     "output_type": "execute_result"
    }
   ],
   "source": [
    "w3.vector()[:]"
   ]
  },
  {
   "cell_type": "code",
   "execution_count": 215,
   "id": "aa0b4a77-386d-43a8-87aa-13c054e175ba",
   "metadata": {},
   "outputs": [
    {
     "data": {
      "text/plain": [
       "5.729021573778279e-07"
      ]
     },
     "execution_count": 215,
     "metadata": {},
     "output_type": "execute_result"
    }
   ],
   "source": [
    "assemble( inner(w3- f, w3-f)*dx(2))"
   ]
  },
  {
   "cell_type": "markdown",
   "id": "6a693b2a-f1de-4ec5-85ab-f8a1004e5c53",
   "metadata": {},
   "source": [
    "with iota: 2.454632902644894e-07\n",
    "without iota: 5.729021573778279e-07"
   ]
  },
  {
   "cell_type": "code",
   "execution_count": null,
   "id": "990f0609-17d8-462e-aa5c-3138f8a1fbf2",
   "metadata": {},
   "outputs": [],
   "source": []
  }
 ],
 "metadata": {
  "kernelspec": {
   "display_name": "Python 3 (ipykernel)",
   "language": "python",
   "name": "python3"
  },
  "language_info": {
   "codemirror_mode": {
    "name": "ipython",
    "version": 3
   },
   "file_extension": ".py",
   "mimetype": "text/x-python",
   "name": "python",
   "nbconvert_exporter": "python",
   "pygments_lexer": "ipython3",
   "version": "3.10.12"
  }
 },
 "nbformat": 4,
 "nbformat_minor": 5
}
